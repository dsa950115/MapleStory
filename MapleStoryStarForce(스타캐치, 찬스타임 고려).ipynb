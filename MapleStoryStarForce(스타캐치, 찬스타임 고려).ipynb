{
 "cells": [
  {
   "cell_type": "markdown",
   "metadata": {},
   "source": [
    "# 변경된 확률표를 사용하였습니다."
   ]
  },
  {
   "cell_type": "code",
   "execution_count": 1,
   "metadata": {
    "scrolled": true
   },
   "outputs": [
    {
     "data": {
      "text/plain": [
       "array([[0.   , 0.   ],\n",
       "       [0.   , 0.   ],\n",
       "       [0.   , 0.   ],\n",
       "       [0.   , 0.   ],\n",
       "       [0.   , 0.   ],\n",
       "       [0.   , 0.   ],\n",
       "       [0.   , 0.   ],\n",
       "       [0.   , 0.   ],\n",
       "       [0.   , 0.   ],\n",
       "       [0.   , 0.   ],\n",
       "       [0.   , 0.   ],\n",
       "       [0.   , 0.   ],\n",
       "       [0.   , 0.006],\n",
       "       [0.   , 0.013],\n",
       "       [0.   , 0.014],\n",
       "       [0.   , 0.021],\n",
       "       [0.   , 0.021],\n",
       "       [0.   , 0.021],\n",
       "       [0.   , 0.028],\n",
       "       [0.   , 0.028],\n",
       "       [0.   , 0.07 ],\n",
       "       [0.3  , 0.07 ]])"
      ]
     },
     "execution_count": 1,
     "metadata": {},
     "output_type": "execute_result"
    }
   ],
   "source": [
    "import numpy as np\n",
    "import pandas as pd\n",
    "\n",
    "mat = [[0 for i in range(24)] for i in range(24)] \n",
    "\n",
    "\n",
    "    #전, 현, 후, 파괴확률\n",
    "k = [[0, 0.05, 0.95, 0],#0\n",
    "     [0, 0.1,0.9,0],#1\n",
    "     [0, 0.15,0.85,0],#2\n",
    "     [0, 0.15,0.85,0],#3\n",
    "     [0, 0.2,0.8,0],#4\n",
    "     [0,0.25,0.75,0],#5\n",
    "     [0,0.3,0.7,0],#6\n",
    "     [0,0.35,0.65,0],#7\n",
    "     [0,0.4,0.6,0],#8\n",
    "     [0,0.45,0.55,0], #9\n",
    "     [0,0.5,0.5,0], #10\n",
    "     [0.55,0,0.45,0], #11\n",
    "     [0.594,0,0.4,0.006], #12\n",
    "     [0.637,0,0.35,0.013], #13\n",
    "     [0.686,0,0.3,0.014], #14\n",
    "     [0,0.679,0.3,0.021], #15\n",
    "     [0.679, 0,0.3,0.021], #16\n",
    "     [0.679, 0,0.3,0.021], #17\n",
    "     [0.672, 0,0.3,0.028], #18\n",
    "     [0.672, 0,0.3,0.028], #19\n",
    "     [0,0.63,0.3,0.07], #20\n",
    "     [0.63,0,0.3,0.07]] #21\n",
    "     \n",
    "\n",
    "for i in range(22):\n",
    "    lst = k[i]\n",
    "    for j in range(len(lst)):\n",
    "        if lst[j] == 0:\n",
    "            continue\n",
    "        else:\n",
    "            if j == 0:\n",
    "                mat[i][i-1] = lst[j]\n",
    "            elif j == 1:\n",
    "                mat[i][i] = lst[j]\n",
    "            elif j == 2:\n",
    "                mat[i][i+1] = lst[j]\n",
    "            else:\n",
    "                mat[i][-1] = lst[j]\n",
    "\n",
    "P = np.array(mat)\n",
    "\n",
    "mat = pd.DataFrame(P)\n",
    "T = np.array(mat.iloc[:22,:22])\n",
    "R = np.array(mat.iloc[:22:,-2:])\n",
    "R"
   ]
  },
  {
   "cell_type": "markdown",
   "metadata": {},
   "source": [
    "# 스타캐치만을 고려한 모델(전이확률행렬)"
   ]
  },
  {
   "cell_type": "code",
   "execution_count": 2,
   "metadata": {},
   "outputs": [],
   "source": [
    "## 스타캐치를 하게 될 경우 파괴확률은 그대로, 상승확률만 곱연산으로 올라간다고 가정.\n",
    "## 11성->12성부터 전부 스타캐치 계속 성공한다고 가정한 상황\n",
    "\n",
    "mat = [[0 for i in range(24)] for i in range(24)] \n",
    "\n",
    "    #전, 현, 후, 파괴확률\n",
    "k = [[0, 0.05, 0.95, 0],#0\n",
    "     [0, 0.1,0.9,0],#1\n",
    "     [0, 0.15,0.85,0],#2\n",
    "     [0, 0.15,0.85,0],#3\n",
    "     [0, 0.2,0.8,0],#4\n",
    "     [0,0.25,0.75,0],#5\n",
    "     [0,0.3,0.7,0],#6\n",
    "     [0,0.35,0.65,0],#7\n",
    "     [0,0.4,0.6,0],#8\n",
    "     [0,0.45,0.55,0], #9\n",
    "     [0,0.5,0.5,0], #10\n",
    "     [1-0.45*1.045,0,0.45*1.045,0], #11\n",
    "     [1-0.4*1.045-0.006,0,0.4*1.045,0.006], #12\n",
    "     [1-0.35*1.045-0.013,0,0.35*1.045,0.013], #13\n",
    "     [1-0.3*1.045-0.014,0,0.3*1.045,0.014], #14\n",
    "     [0,1-0.3*1.045-0.021,0.3*1.045,0.021], #15\n",
    "     [1-0.3*1.045-0.021, 0,0.3*1.045,0.021], #16\n",
    "     [1-0.3*1.045-0.021, 0,0.3*1.045,0.021], #17\n",
    "     [1-0.3*1.045-0.028, 0,0.3*1.045,0.028], #18\n",
    "     [1-0.3*1.045-0.028, 0,0.3*1.045,0.028], #19\n",
    "     [0,1-0.3*1.045-0.07,0.3*1.045,0.07], #20\n",
    "     [1-0.3*1.045-0.07,0,0.3*1.045,0.07]] #21\n",
    "\n",
    "for i in range(22):\n",
    "    lst = k[i]\n",
    "    for j in range(len(lst)):\n",
    "        if lst[j] == 0:\n",
    "            continue\n",
    "        else:\n",
    "            if j == 0:\n",
    "                mat[i][i-1] = lst[j]\n",
    "            elif j == 1:\n",
    "                mat[i][i] = lst[j]\n",
    "            elif j == 2:\n",
    "                mat[i][i+1] = lst[j]\n",
    "            else:\n",
    "                mat[i][-1] = lst[j]\n",
    "\n",
    "P = np.array(mat)\n",
    "\n",
    "mat = pd.DataFrame(P)\n",
    "T = np.array(mat.iloc[:22,:22])\n",
    "R = np.array(mat.iloc[:22:,-2:])\n",
    "\n",
    "I = np.eye(len(T))\n",
    "E = np.linalg.inv(I-T)\n",
    "e = np.ones(len(T)).reshape(-1,1)"
   ]
  },
  {
   "cell_type": "markdown",
   "metadata": {},
   "source": [
    "# 시뮬레이션을 통한 estimation"
   ]
  },
  {
   "cell_type": "markdown",
   "metadata": {},
   "source": [
    "> 1,000회 실시"
   ]
  },
  {
   "cell_type": "code",
   "execution_count": 3,
   "metadata": {},
   "outputs": [],
   "source": [
    "## 찬스타임 고려한 상황 하\n",
    "\n",
    "def check(a,state):\n",
    "    p = 0\n",
    "    for i in range(4):\n",
    "        p += k[state][i]\n",
    "        if a>p:\n",
    "            continue\n",
    "        else:\n",
    "            return i"
   ]
  },
  {
   "cell_type": "code",
   "execution_count": 14,
   "metadata": {
    "collapsed": true
   },
   "outputs": [
    {
     "ename": "KeyboardInterrupt",
     "evalue": "",
     "output_type": "error",
     "traceback": [
      "\u001b[1;31m---------------------------------------------------------------------------\u001b[0m",
      "\u001b[1;31mKeyboardInterrupt\u001b[0m                         Traceback (most recent call last)",
      "\u001b[1;32m<ipython-input-14-d0a02a06ee88>\u001b[0m in \u001b[0;36m<module>\u001b[1;34m\u001b[0m\n\u001b[0;32m     10\u001b[0m     \u001b[1;32mwhile\u001b[0m \u001b[1;33m(\u001b[0m\u001b[0mstate\u001b[0m \u001b[1;33m!=\u001b[0m \u001b[1;33m-\u001b[0m\u001b[1;36m1\u001b[0m\u001b[1;33m)\u001b[0m \u001b[1;32mand\u001b[0m \u001b[1;33m(\u001b[0m\u001b[0mstate\u001b[0m \u001b[1;33m!=\u001b[0m \u001b[1;36m22\u001b[0m\u001b[1;33m)\u001b[0m\u001b[1;33m:\u001b[0m\u001b[1;33m\u001b[0m\u001b[1;33m\u001b[0m\u001b[0m\n\u001b[0;32m     11\u001b[0m         \u001b[0mtrial\u001b[0m \u001b[1;33m+=\u001b[0m \u001b[1;36m1\u001b[0m\u001b[1;33m\u001b[0m\u001b[1;33m\u001b[0m\u001b[0m\n\u001b[1;32m---> 12\u001b[1;33m         \u001b[0mprob\u001b[0m \u001b[1;33m=\u001b[0m \u001b[0mnp\u001b[0m\u001b[1;33m.\u001b[0m\u001b[0mrandom\u001b[0m\u001b[1;33m.\u001b[0m\u001b[0mrand\u001b[0m\u001b[1;33m(\u001b[0m\u001b[1;36m1\u001b[0m\u001b[1;33m)\u001b[0m\u001b[1;33m\u001b[0m\u001b[1;33m\u001b[0m\u001b[0m\n\u001b[0m\u001b[0;32m     13\u001b[0m         \u001b[0mb\u001b[0m \u001b[1;33m=\u001b[0m \u001b[0mcheck\u001b[0m\u001b[1;33m(\u001b[0m\u001b[0mprob\u001b[0m\u001b[1;33m,\u001b[0m\u001b[0mstate\u001b[0m\u001b[1;33m)\u001b[0m\u001b[1;33m\u001b[0m\u001b[1;33m\u001b[0m\u001b[0m\n\u001b[0;32m     14\u001b[0m     \u001b[1;32mif\u001b[0m \u001b[0mflag\u001b[0m \u001b[1;33m==\u001b[0m \u001b[1;36m2\u001b[0m\u001b[1;33m:\u001b[0m\u001b[1;33m\u001b[0m\u001b[1;33m\u001b[0m\u001b[0m\n",
      "\u001b[1;31mKeyboardInterrupt\u001b[0m: "
     ]
    }
   ],
   "source": [
    "ans = []\n",
    "state_num = [0 for i in range(22)]\n",
    "state_num[0] = 1\n",
    "\n",
    "for i in range(1000):\n",
    "    state = 0\n",
    "    trial = 0\n",
    "    flag = 0\n",
    "    chance_time = 0\n",
    "    while (state != -1) and (state != 22):\n",
    "        trial += 1\n",
    "        prob = np.random.rand(1)\n",
    "        b = check(prob,state)\n",
    "    if flag == 2:\n",
    "        state += 1\n",
    "        flag = 0\n",
    "        chance_time += 1\n",
    "\n",
    "    elif b == 0:\n",
    "        state -= 1\n",
    "        flag += 1\n",
    "\n",
    "    elif b == 1:\n",
    "        flag = 0\n",
    "        pass\n",
    "\n",
    "    elif b == 2:\n",
    "        flag = 0\n",
    "        state += 1\n",
    "\n",
    "    else:\n",
    "        state = -1\n",
    "\n",
    "    if state != -1 and state != 22:\n",
    "        state_num[state] += 1\n",
    "    #print(state)\n",
    "    #print(flag)\n",
    "\n",
    "    ans.append([state, chance_time, trial])"
   ]
  },
  {
   "cell_type": "code",
   "execution_count": 9,
   "metadata": {},
   "outputs": [
    {
     "name": "stdout",
     "output_type": "stream",
     "text": [
      "100\n"
     ]
    }
   ],
   "source": [
    "# 1,000번 test했을 때 성공 횟수\n",
    "cnt = 0\n",
    "for i in ans:\n",
    "    if i[0] == 22:\n",
    "        cnt+=1\n",
    "    else:\n",
    "        continue\n",
    "\n",
    "print(cnt)"
   ]
  },
  {
   "cell_type": "code",
   "execution_count": 10,
   "metadata": {},
   "outputs": [
    {
     "data": {
      "text/plain": [
       "array([ 0.048,  1.12 ,  1.169,  1.19 ,  1.231,  1.325,  1.467,  1.565,\n",
       "        1.684,  1.839, 11.187, 12.452, 11.318,  7.072,  2.555, 15.225,\n",
       "        8.648,  4.588,  2.039,  0.633,  0.996,  0.311])"
      ]
     },
     "execution_count": 10,
     "metadata": {},
     "output_type": "execute_result"
    }
   ],
   "source": [
    "# 1,000번 test했을 때 각 state 평균 방문 횟수\n",
    "np.array(state_num)/1000"
   ]
  },
  {
   "cell_type": "code",
   "execution_count": 11,
   "metadata": {},
   "outputs": [
    {
     "name": "stdout",
     "output_type": "stream",
     "text": [
      "7.497\n",
      "90.661\n"
     ]
    }
   ],
   "source": [
    "# 평균 찬스타임 횟수\n",
    "print(sum(np.array(ans)[:1000,1])/1000)\n",
    "\n",
    "# 평균 trial 횟수\n",
    "print(sum(np.array(ans)[:1000,2])/1000)"
   ]
  },
  {
   "cell_type": "markdown",
   "metadata": {},
   "source": [
    "> 10,000회 실시"
   ]
  },
  {
   "cell_type": "code",
   "execution_count": 13,
   "metadata": {
    "collapsed": true
   },
   "outputs": [
    {
     "ename": "KeyboardInterrupt",
     "evalue": "",
     "output_type": "error",
     "traceback": [
      "\u001b[1;31m---------------------------------------------------------------------------\u001b[0m",
      "\u001b[1;31mKeyboardInterrupt\u001b[0m                         Traceback (most recent call last)",
      "\u001b[1;32m<ipython-input-13-63082fa1ebb0>\u001b[0m in \u001b[0;36m<module>\u001b[1;34m\u001b[0m\n\u001b[0;32m      8\u001b[0m     \u001b[1;32mwhile\u001b[0m \u001b[1;33m(\u001b[0m\u001b[0mstate\u001b[0m \u001b[1;33m!=\u001b[0m \u001b[1;33m-\u001b[0m\u001b[1;36m1\u001b[0m\u001b[1;33m)\u001b[0m \u001b[1;32mand\u001b[0m \u001b[1;33m(\u001b[0m\u001b[0mstate\u001b[0m \u001b[1;33m!=\u001b[0m \u001b[1;36m22\u001b[0m\u001b[1;33m)\u001b[0m\u001b[1;33m:\u001b[0m\u001b[1;33m\u001b[0m\u001b[1;33m\u001b[0m\u001b[0m\n\u001b[0;32m      9\u001b[0m         \u001b[0mtrial\u001b[0m \u001b[1;33m+=\u001b[0m \u001b[1;36m1\u001b[0m\u001b[1;33m\u001b[0m\u001b[1;33m\u001b[0m\u001b[0m\n\u001b[1;32m---> 10\u001b[1;33m         \u001b[0mprob\u001b[0m \u001b[1;33m=\u001b[0m \u001b[0mnp\u001b[0m\u001b[1;33m.\u001b[0m\u001b[0mrandom\u001b[0m\u001b[1;33m.\u001b[0m\u001b[0mrand\u001b[0m\u001b[1;33m(\u001b[0m\u001b[1;36m1\u001b[0m\u001b[1;33m)\u001b[0m\u001b[1;33m\u001b[0m\u001b[1;33m\u001b[0m\u001b[0m\n\u001b[0m\u001b[0;32m     11\u001b[0m         \u001b[0mb\u001b[0m \u001b[1;33m=\u001b[0m \u001b[0mcheck\u001b[0m\u001b[1;33m(\u001b[0m\u001b[0mprob\u001b[0m\u001b[1;33m,\u001b[0m\u001b[0mstate\u001b[0m\u001b[1;33m)\u001b[0m\u001b[1;33m\u001b[0m\u001b[1;33m\u001b[0m\u001b[0m\n\u001b[0;32m     12\u001b[0m     \u001b[1;32mif\u001b[0m \u001b[0mflag\u001b[0m \u001b[1;33m==\u001b[0m \u001b[1;36m2\u001b[0m\u001b[1;33m:\u001b[0m\u001b[1;33m\u001b[0m\u001b[1;33m\u001b[0m\u001b[0m\n",
      "\u001b[1;31mKeyboardInterrupt\u001b[0m: "
     ]
    }
   ],
   "source": [
    "ans = []\n",
    "state_num = [0 for i in range(22)]\n",
    "state_num[0] = 1\n",
    "\n",
    "for i in range(10000):\n",
    "    state = 0\n",
    "    trial = 0\n",
    "    flag = 0\n",
    "    chance_time = 0\n",
    "    while (state != -1) and (state != 22):\n",
    "        trial += 1\n",
    "        prob = np.random.rand(1)\n",
    "        b = check(prob,state)\n",
    "    if flag == 2:\n",
    "        state += 1\n",
    "        flag = 0\n",
    "        chance_time += 1\n",
    "\n",
    "    elif b == 0:\n",
    "        state -= 1\n",
    "        flag += 1\n",
    "\n",
    "    elif b == 1:\n",
    "        flag = 0\n",
    "        pass\n",
    "\n",
    "    elif b == 2:\n",
    "        flag = 0\n",
    "        state += 1\n",
    "\n",
    "    else:\n",
    "        state = -1\n",
    "\n",
    "    if state != -1 and state != 22:\n",
    "        state_num[state] += 1\n",
    "    #print(state)\n",
    "    #print(flag)\n",
    "\n",
    "    ans.append([state, chance_time, trial])"
   ]
  },
  {
   "cell_type": "code",
   "execution_count": null,
   "metadata": {},
   "outputs": [],
   "source": [
    "# 10,000번 test했을 때 성공 횟수\n",
    "cnt = 0\n",
    "for i in ans:\n",
    "    if i[0] == 22:\n",
    "        cnt+=1\n",
    "    else:\n",
    "        continue\n",
    "\n",
    "print(cnt)"
   ]
  },
  {
   "cell_type": "code",
   "execution_count": null,
   "metadata": {},
   "outputs": [],
   "source": [
    "# 10,000번 test했을 때 각 state 평균 방문 횟수\n",
    "np.array(state_num)/10000"
   ]
  },
  {
   "cell_type": "code",
   "execution_count": null,
   "metadata": {},
   "outputs": [],
   "source": [
    "# 평균 찬스타임 횟수\n",
    "print(sum(np.array(ans)[:,1])/10000)\n",
    "\n",
    "# 평균 trial 횟수\n",
    "print(sum(np.array(ans)[:,2])/10000)"
   ]
  },
  {
   "cell_type": "markdown",
   "metadata": {},
   "source": [
    "> 100,000회 실시"
   ]
  },
  {
   "cell_type": "code",
   "execution_count": null,
   "metadata": {},
   "outputs": [],
   "source": [
    "ans = []\n",
    "state_num = [0 for i in range(22)]\n",
    "state_num[0] = 1\n",
    "\n",
    "for i in range(100000):\n",
    "    state = 0\n",
    "    trial = 0\n",
    "    flag = 0\n",
    "    chance_time = 0\n",
    "    while (state != -1) and (state != 22):\n",
    "        trial += 1\n",
    "        prob = np.random.rand(1)\n",
    "        b = check(prob,state)\n",
    "    if flag == 2:\n",
    "        state += 1\n",
    "        flag = 0\n",
    "        chance_time += 1\n",
    "\n",
    "    elif b == 0:\n",
    "        state -= 1\n",
    "        flag += 1\n",
    "\n",
    "    elif b == 1:\n",
    "        flag = 0\n",
    "        pass\n",
    "\n",
    "    elif b == 2:\n",
    "        flag = 0\n",
    "        state += 1\n",
    "\n",
    "    else:\n",
    "        state = -1\n",
    "\n",
    "    if state != -1 and state != 22:\n",
    "        state_num[state] += 1\n",
    "    #print(state)\n",
    "    #print(flag)\n",
    "\n",
    "    ans.append([state, chance_time, trial])"
   ]
  },
  {
   "cell_type": "code",
   "execution_count": null,
   "metadata": {},
   "outputs": [],
   "source": [
    "# 100,000번 test했을 때 성공 횟수\n",
    "cnt = 0\n",
    "for i in ans:\n",
    "    if i[0] == 22:\n",
    "        cnt+=1\n",
    "    else:\n",
    "        continue\n",
    "\n",
    "print(cnt)"
   ]
  },
  {
   "cell_type": "code",
   "execution_count": null,
   "metadata": {},
   "outputs": [],
   "source": [
    "# 100,000번 test했을 때 각 state 평균 방문 횟수\n",
    "np.array(state_num)/100000"
   ]
  },
  {
   "cell_type": "code",
   "execution_count": null,
   "metadata": {},
   "outputs": [],
   "source": [
    "# 10만번 평균 찬스타임 횟수\n",
    "print(sum(np.array(ans)[:,1])/100000)\n",
    "\n",
    "# 10만번 평균 trial 횟수\n",
    "print(sum(np.array(ans)[:,2])/100000)"
   ]
  },
  {
   "cell_type": "markdown",
   "metadata": {},
   "source": [
    "> 흡수되기까지 평균적으로 사용한 금액"
   ]
  },
  {
   "cell_type": "code",
   "execution_count": null,
   "metadata": {},
   "outputs": [],
   "source": [
    "cost = np.array([164800,328700,492500,656400,820200,984000,1147900,1311700,1475600,1639400,6639400,\n",
    "        8397300,10422900,12731500,15338200,36514500,43008300,50185100,58072700,66698700,\n",
    "        76090000,86273300]).reshape(-1,1)\n",
    "\n",
    "# 1,000회\n",
    "arr1 = np.array([ 0.068,  1.125,  1.156,  1.163,  1.258,  1.331,  1.427,  1.521,\n",
    "        1.689,  1.83 , 11.235, 12.72 , 11.59 ,  7.296,  2.591, 14.095,\n",
    "        7.931,  4.212,  1.942,  0.606,  1.107,  0.321])\n",
    "\n",
    "# 10,000회\n",
    "arr2 = np.array([ 0.0537,  1.114 ,  1.1782,  1.1747,  1.2562,  1.3318,  1.4366,\n",
    "        1.5472,  1.6671,  1.8219, 11.0838, 12.4291, 11.2999,  7.1565,\n",
    "        2.6016, 15.1167,  8.4353,  4.3995,  1.9517,  0.6103,  1.0432,\n",
    "        0.3193])\n",
    "\n",
    "# 100,000회\n",
    "arr3 = np.array([ 0.05251,  1.11066,  1.17845,  1.1757 ,  1.2529 ,  1.33095,\n",
    "        1.43053,  1.54428,  1.66975,  1.8242 , 11.07139, 12.43727,\n",
    "       11.27138,  7.10349,  2.59616, 15.12696,  8.4802 ,  4.43817,\n",
    "        1.97898,  0.62024,  1.02477,  0.3233 ])\n",
    "\n",
    "print(np.matmul(arr1,cost))\n",
    "print(np.matmul(arr2,cost))\n",
    "print(np.matmul(arr3,cost))"
   ]
  }
 ],
 "metadata": {
  "kernelspec": {
   "display_name": "Python 3",
   "language": "python",
   "name": "python3"
  },
  "language_info": {
   "codemirror_mode": {
    "name": "ipython",
    "version": 3
   },
   "file_extension": ".py",
   "mimetype": "text/x-python",
   "name": "python",
   "nbconvert_exporter": "python",
   "pygments_lexer": "ipython3",
   "version": "3.7.6"
  }
 },
 "nbformat": 4,
 "nbformat_minor": 4
}
