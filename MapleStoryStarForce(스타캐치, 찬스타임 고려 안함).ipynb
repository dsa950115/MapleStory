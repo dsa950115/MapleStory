{
 "cells": [
  {
   "cell_type": "code",
   "execution_count": 2,
   "metadata": {},
   "outputs": [],
   "source": [
    "import numpy as np\n",
    "import pandas as pd"
   ]
  },
  {
   "cell_type": "markdown",
   "metadata": {},
   "source": [
    "# 전이확률행렬(Transition Probability Matrix)"
   ]
  },
  {
   "cell_type": "code",
   "execution_count": 14,
   "metadata": {},
   "outputs": [],
   "source": [
    "mat = [[0 for i in range(24)] for i in range(24)] \n",
    "\n",
    "    #전, 현, 후, 파괴확률\n",
    "k = [[0, 0.05, 0.95, 0],#0\n",
    "     [0, 0.1,0.9,0],#1\n",
    "     [0, 0.15,0.85,0],#2\n",
    "     [0, 0.15,0.85,0],#3\n",
    "     [0, 0.2,0.8,0],#4\n",
    "     [0,0.25,0.75,0],#5\n",
    "     [0.3,0,0.7,0],#6\n",
    "     [0.35,0,0.65,0],#7\n",
    "     [0.4,0,0.6,0],#8\n",
    "     [0.45,0,0.55,0], #9\n",
    "     [0,0.55,0.45,0], #10\n",
    "     [0.65,0,0.35,0], #11\n",
    "     [0.69,0,0.3,0.01], #12\n",
    "     [0.69,0,0.3,0.01], #13\n",
    "     [0.69,0,0.3,0.01], #14\n",
    "     [0,0.68,0.3,0.02], #15\n",
    "     [0.68, 0,0.3,0.02], #16\n",
    "     [0.68, 0,0.3,0.02], #17\n",
    "     [0.67, 0,0.3,0.03], #18\n",
    "     [0.67, 0,0.3,0.03], #19\n",
    "     [0,0.63,0.3,0.07], #20\n",
    "     [0.63,0,0.3,0.07]] #21\n",
    "     \n",
    "\n",
    "for i in range(22):\n",
    "    lst = k[i]\n",
    "    for j in range(len(lst)):\n",
    "        if lst[j] == 0:\n",
    "            continue\n",
    "        else:\n",
    "            if j == 0:\n",
    "                mat[i][i-1] = lst[j]\n",
    "            elif j == 1:\n",
    "                mat[i][i] = lst[j]\n",
    "            elif j == 2:\n",
    "                mat[i][i+1] = lst[j]\n",
    "            else:\n",
    "                mat[i][-1] = lst[j]\n",
    "\n",
    "P = np.array(mat)\n",
    "mat = pd.DataFrame(P)\n",
    "\n",
    "# transient state간의 전이확률\n",
    "T = np.array(mat.iloc[:22,:22])\n",
    "\n",
    "# absorbing state간의 전이확률\n",
    "R = np.array(mat.iloc[:22:,-2:])"
   ]
  },
  {
   "cell_type": "code",
   "execution_count": 15,
   "metadata": {
    "scrolled": true
   },
   "outputs": [
    {
     "data": {
      "text/plain": [
       "array([[0.05, 0.95, 0.  , 0.  , 0.  , 0.  , 0.  , 0.  , 0.  , 0.  , 0.  ,\n",
       "        0.  , 0.  , 0.  , 0.  , 0.  , 0.  , 0.  , 0.  , 0.  , 0.  , 0.  ],\n",
       "       [0.  , 0.1 , 0.9 , 0.  , 0.  , 0.  , 0.  , 0.  , 0.  , 0.  , 0.  ,\n",
       "        0.  , 0.  , 0.  , 0.  , 0.  , 0.  , 0.  , 0.  , 0.  , 0.  , 0.  ],\n",
       "       [0.  , 0.  , 0.15, 0.85, 0.  , 0.  , 0.  , 0.  , 0.  , 0.  , 0.  ,\n",
       "        0.  , 0.  , 0.  , 0.  , 0.  , 0.  , 0.  , 0.  , 0.  , 0.  , 0.  ],\n",
       "       [0.  , 0.  , 0.  , 0.15, 0.85, 0.  , 0.  , 0.  , 0.  , 0.  , 0.  ,\n",
       "        0.  , 0.  , 0.  , 0.  , 0.  , 0.  , 0.  , 0.  , 0.  , 0.  , 0.  ],\n",
       "       [0.  , 0.  , 0.  , 0.  , 0.2 , 0.8 , 0.  , 0.  , 0.  , 0.  , 0.  ,\n",
       "        0.  , 0.  , 0.  , 0.  , 0.  , 0.  , 0.  , 0.  , 0.  , 0.  , 0.  ],\n",
       "       [0.  , 0.  , 0.  , 0.  , 0.  , 0.25, 0.75, 0.  , 0.  , 0.  , 0.  ,\n",
       "        0.  , 0.  , 0.  , 0.  , 0.  , 0.  , 0.  , 0.  , 0.  , 0.  , 0.  ],\n",
       "       [0.  , 0.  , 0.  , 0.  , 0.  , 0.3 , 0.  , 0.7 , 0.  , 0.  , 0.  ,\n",
       "        0.  , 0.  , 0.  , 0.  , 0.  , 0.  , 0.  , 0.  , 0.  , 0.  , 0.  ],\n",
       "       [0.  , 0.  , 0.  , 0.  , 0.  , 0.  , 0.35, 0.  , 0.65, 0.  , 0.  ,\n",
       "        0.  , 0.  , 0.  , 0.  , 0.  , 0.  , 0.  , 0.  , 0.  , 0.  , 0.  ],\n",
       "       [0.  , 0.  , 0.  , 0.  , 0.  , 0.  , 0.  , 0.4 , 0.  , 0.6 , 0.  ,\n",
       "        0.  , 0.  , 0.  , 0.  , 0.  , 0.  , 0.  , 0.  , 0.  , 0.  , 0.  ],\n",
       "       [0.  , 0.  , 0.  , 0.  , 0.  , 0.  , 0.  , 0.  , 0.45, 0.  , 0.55,\n",
       "        0.  , 0.  , 0.  , 0.  , 0.  , 0.  , 0.  , 0.  , 0.  , 0.  , 0.  ],\n",
       "       [0.  , 0.  , 0.  , 0.  , 0.  , 0.  , 0.  , 0.  , 0.  , 0.  , 0.55,\n",
       "        0.45, 0.  , 0.  , 0.  , 0.  , 0.  , 0.  , 0.  , 0.  , 0.  , 0.  ],\n",
       "       [0.  , 0.  , 0.  , 0.  , 0.  , 0.  , 0.  , 0.  , 0.  , 0.  , 0.65,\n",
       "        0.  , 0.35, 0.  , 0.  , 0.  , 0.  , 0.  , 0.  , 0.  , 0.  , 0.  ],\n",
       "       [0.  , 0.  , 0.  , 0.  , 0.  , 0.  , 0.  , 0.  , 0.  , 0.  , 0.  ,\n",
       "        0.69, 0.  , 0.3 , 0.  , 0.  , 0.  , 0.  , 0.  , 0.  , 0.  , 0.  ],\n",
       "       [0.  , 0.  , 0.  , 0.  , 0.  , 0.  , 0.  , 0.  , 0.  , 0.  , 0.  ,\n",
       "        0.  , 0.69, 0.  , 0.3 , 0.  , 0.  , 0.  , 0.  , 0.  , 0.  , 0.  ],\n",
       "       [0.  , 0.  , 0.  , 0.  , 0.  , 0.  , 0.  , 0.  , 0.  , 0.  , 0.  ,\n",
       "        0.  , 0.  , 0.69, 0.  , 0.3 , 0.  , 0.  , 0.  , 0.  , 0.  , 0.  ],\n",
       "       [0.  , 0.  , 0.  , 0.  , 0.  , 0.  , 0.  , 0.  , 0.  , 0.  , 0.  ,\n",
       "        0.  , 0.  , 0.  , 0.  , 0.68, 0.3 , 0.  , 0.  , 0.  , 0.  , 0.  ],\n",
       "       [0.  , 0.  , 0.  , 0.  , 0.  , 0.  , 0.  , 0.  , 0.  , 0.  , 0.  ,\n",
       "        0.  , 0.  , 0.  , 0.  , 0.68, 0.  , 0.3 , 0.  , 0.  , 0.  , 0.  ],\n",
       "       [0.  , 0.  , 0.  , 0.  , 0.  , 0.  , 0.  , 0.  , 0.  , 0.  , 0.  ,\n",
       "        0.  , 0.  , 0.  , 0.  , 0.  , 0.68, 0.  , 0.3 , 0.  , 0.  , 0.  ],\n",
       "       [0.  , 0.  , 0.  , 0.  , 0.  , 0.  , 0.  , 0.  , 0.  , 0.  , 0.  ,\n",
       "        0.  , 0.  , 0.  , 0.  , 0.  , 0.  , 0.67, 0.  , 0.3 , 0.  , 0.  ],\n",
       "       [0.  , 0.  , 0.  , 0.  , 0.  , 0.  , 0.  , 0.  , 0.  , 0.  , 0.  ,\n",
       "        0.  , 0.  , 0.  , 0.  , 0.  , 0.  , 0.  , 0.67, 0.  , 0.3 , 0.  ],\n",
       "       [0.  , 0.  , 0.  , 0.  , 0.  , 0.  , 0.  , 0.  , 0.  , 0.  , 0.  ,\n",
       "        0.  , 0.  , 0.  , 0.  , 0.  , 0.  , 0.  , 0.  , 0.  , 0.63, 0.3 ],\n",
       "       [0.  , 0.  , 0.  , 0.  , 0.  , 0.  , 0.  , 0.  , 0.  , 0.  , 0.  ,\n",
       "        0.  , 0.  , 0.  , 0.  , 0.  , 0.  , 0.  , 0.  , 0.  , 0.63, 0.  ]])"
      ]
     },
     "execution_count": 15,
     "metadata": {},
     "output_type": "execute_result"
    }
   ],
   "source": [
    "T"
   ]
  },
  {
   "cell_type": "code",
   "execution_count": 16,
   "metadata": {
    "scrolled": true
   },
   "outputs": [
    {
     "data": {
      "text/plain": [
       "array([[0.  , 0.  ],\n",
       "       [0.  , 0.  ],\n",
       "       [0.  , 0.  ],\n",
       "       [0.  , 0.  ],\n",
       "       [0.  , 0.  ],\n",
       "       [0.  , 0.  ],\n",
       "       [0.  , 0.  ],\n",
       "       [0.  , 0.  ],\n",
       "       [0.  , 0.  ],\n",
       "       [0.  , 0.  ],\n",
       "       [0.  , 0.  ],\n",
       "       [0.  , 0.  ],\n",
       "       [0.  , 0.01],\n",
       "       [0.  , 0.01],\n",
       "       [0.  , 0.01],\n",
       "       [0.  , 0.02],\n",
       "       [0.  , 0.02],\n",
       "       [0.  , 0.02],\n",
       "       [0.  , 0.03],\n",
       "       [0.  , 0.03],\n",
       "       [0.  , 0.07],\n",
       "       [0.3 , 0.07]])"
      ]
     },
     "execution_count": 16,
     "metadata": {},
     "output_type": "execute_result"
    }
   ],
   "source": [
    "R"
   ]
  },
  {
   "cell_type": "markdown",
   "metadata": {},
   "source": [
    "# 결국 어디로 흡수되는가?"
   ]
  },
  {
   "cell_type": "code",
   "execution_count": 17,
   "metadata": {
    "scrolled": true
   },
   "outputs": [
    {
     "name": "stdout",
     "output_type": "stream",
     "text": [
      "[[0.04882069 0.95117931]\n",
      " [0.04882069 0.95117931]\n",
      " [0.04882069 0.95117931]\n",
      " [0.04882069 0.95117931]\n",
      " [0.04882069 0.95117931]\n",
      " [0.04882069 0.95117931]\n",
      " [0.04882069 0.95117931]\n",
      " [0.04882069 0.95117931]\n",
      " [0.04882069 0.95117931]\n",
      " [0.04882069 0.95117931]\n",
      " [0.04882069 0.95117931]\n",
      " [0.04882069 0.95117931]\n",
      " [0.04882069 0.95117931]\n",
      " [0.05044804 0.94955196]\n",
      " [0.05587256 0.94412744]\n",
      " [0.07021138 0.92978862]\n",
      " [0.07489214 0.92510786]\n",
      " [0.09049467 0.90950533]\n",
      " [0.13189338 0.86810662]\n",
      " [0.23753983 0.76246017]\n",
      " [0.49723757 0.50276243]\n",
      " [0.61325967 0.38674033]]\n"
     ]
    }
   ],
   "source": [
    "I = np.eye(len(T))\n",
    "# 기본 행렬(elementary matrix)\n",
    "E = np.linalg.inv(I-T)\n",
    "e = np.ones(len(T)).reshape(-1,1)\n",
    "\n",
    "# i번째 행에서 출발해 absorbing state j로 흡수될 확률\n",
    "print(np.matmul(E,R))"
   ]
  },
  {
   "cell_type": "code",
   "execution_count": 10,
   "metadata": {
    "scrolled": true
   },
   "outputs": [
    {
     "name": "stdout",
     "output_type": "stream",
     "text": [
      "[[187.676653  ]\n",
      " [186.62402142]\n",
      " [185.51291031]\n",
      " [184.33643972]\n",
      " [183.15996913]\n",
      " [181.90996913]\n",
      " [180.5766358 ]\n",
      " [178.5766358 ]\n",
      " [175.96125119]\n",
      " [172.55099478]\n",
      " [167.94260317]\n",
      " [165.72038095]\n",
      " [158.73625396]\n",
      " [144.63063703]\n",
      " [113.67540599]\n",
      " [ 42.93422146]\n",
      " [ 42.46316956]\n",
      " [ 40.89299655]\n",
      " [ 36.72680416]\n",
      " [ 27.76165492]\n",
      " [  7.18232044]\n",
      " [  5.52486188]]\n"
     ]
    }
   ],
   "source": [
    "# i번째 행에서 출발해 흡수되기 전까지 각 state로의 평균 방문 횟수\n",
    "print(np.matmul(E,e))"
   ]
  },
  {
   "cell_type": "markdown",
   "metadata": {},
   "source": [
    "# 평균적으로 사용하는 금액은 어느정도인가?"
   ]
  },
  {
   "cell_type": "code",
   "execution_count": 18,
   "metadata": {},
   "outputs": [
    {
     "data": {
      "text/plain": [
       "array([[2.91272078e+09]])"
      ]
     },
     "execution_count": 18,
     "metadata": {},
     "output_type": "execute_result"
    }
   ],
   "source": [
    "money = [136000,271000,406000,541000,676000,811000,946000,1081000,1216000,1351000,\n",
    "         10940700, 13837700, 17175800, 20980200, 25275900, 30087200, 35437900,\n",
    "         41351400, 47850600, 54958200, 62696400, 71087200]\n",
    "\n",
    "# state에 들어갈 때마다 사용하는 금액\n",
    "money = np.array(money).reshape(-1,1)\n",
    "\n",
    "# state 0에서 시작했을 때 흡수되기 전까지 각 state로의 평균 방문 횟수\n",
    "E_0 = E[0].reshape(-1,1)\n",
    "\n",
    "# 파괴되든 성공하든 어느 한 쪽으로 흡수될 때까지 사용하는 평균 금액\n",
    "np.matmul(E_0.T, money)"
   ]
  },
  {
   "cell_type": "markdown",
   "metadata": {},
   "source": [
    "# 성공확률 p가 0.05인 기하분포"
   ]
  },
  {
   "cell_type": "code",
   "execution_count": 38,
   "metadata": {},
   "outputs": [
    {
     "data": {
      "text/plain": [
       "[<matplotlib.lines.Line2D at 0x1932cda20c8>]"
      ]
     },
     "execution_count": 38,
     "metadata": {},
     "output_type": "execute_result"
    },
    {
     "data": {
      "image/png": "[encoded data removed]",
      "text/plain": [
       "<Figure size 432x288 with 1 Axes>"
      ]
     },
     "metadata": {
      "needs_background": "light"
     },
     "output_type": "display_data"
    }
   ],
   "source": [
    "import matplotlib.pyplot as plt\n",
    "import seaborn as sns\n",
    "\n",
    "x = np.arange(1,101)\n",
    "lst = []\n",
    "\n",
    "for i in x:\n",
    "    lst.append((0.95)**(i-1)*0.05)\n",
    "\n",
    "import pylab\n",
    "pylab.plot(range(len(lst)),lst)"
   ]
  }
 ],
 "metadata": {
  "kernelspec": {
   "display_name": "Python 3",
   "language": "python",
   "name": "python3"
  },
  "language_info": {
   "codemirror_mode": {
    "name": "ipython",
    "version": 3
   },
   "file_extension": ".py",
   "mimetype": "text/x-python",
   "name": "python",
   "nbconvert_exporter": "python",
   "pygments_lexer": "ipython3",
   "version": "3.7.6"
  }
 },
 "nbformat": 4,
 "nbformat_minor": 4
}
